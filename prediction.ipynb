{
 "cells": [
  {
   "cell_type": "code",
   "execution_count": 147,
   "metadata": {
    "collapsed": true
   },
   "outputs": [],
   "source": [
    "import pandas as pd\n",
    "import pickle\n",
    "import numpy as np\n",
    "import datetime"
   ]
  },
  {
   "cell_type": "code",
   "execution_count": 157,
   "metadata": {},
   "outputs": [
    {
     "name": "stdout",
     "output_type": "stream",
     "text": [
      "the coin name >>> xem\n",
      "this predection is down\n",
      "probability of down is [ 0.93] || no movement is [ 0.01]|| up is [ 0.06]\n"
     ]
    }
   ],
   "source": [
    "def get_data(coin):\n",
    "    data = pd.read_csv('newdata/{}.csv'.format(coin.upper()))\n",
    "    data['date'] = data.date.apply(datetime.datetime.fromtimestamp)\n",
    "    data.set_index('date', inplace=True)\n",
    "    data = data\n",
    "    return data.sort_index().tail(11)\n",
    "\n",
    "def make_all_features(data):\n",
    "    price = ['open','close','high','low']\n",
    "    data['price'] = data[price].mean(axis=1)\n",
    "    data['price_change'] = data.price.pct_change()\n",
    "    data['spread']  = data.high = data.low\n",
    "    data.drop(price,axis=1,inplace=True)\n",
    "    data['sma_5'] = data['price'].rolling(5).mean()\n",
    "    data['sma_10'] = data['price'].rolling(10).mean()\n",
    "    data['mean_spread3'] = data['spread'].rolling(3).mean()\n",
    "    data['mean_spread6'] = data['spread'].rolling(5).mean()\n",
    "    data['mean_quote_volume3'] = data['quoteVolume'].rolling(3).mean()\n",
    "    data['mean_quote_volume5'] = data['quoteVolume'].rolling(5).mean()\n",
    "    data['pc_ch_5'] = data.sma_5.pct_change()\n",
    "    data['pc_ch_10'] = data.sma_10.pct_change()\n",
    "    data['sma5_ask_diff'] = (data.sma_5  - data.price)\n",
    "    data['sma10_ask_diff'] = (data.sma_10  - data.price)\n",
    "    data.dropna(inplace=True)\n",
    "    return data[['quoteVolume', 'volume', 'weightedAverage', 'price_change', 'spread',\n",
    "       'mean_spread3', 'mean_spread6', 'mean_quote_volume3',\n",
    "       'mean_quote_volume5', 'pc_ch_5', 'pc_ch_10', 'sma5_ask_diff',\n",
    "       'sma10_ask_diff']].values\n",
    "\n",
    "\n",
    "def feature_eng(x):\n",
    "    with open('scalers/{}'.format(coin), 'rb') as f:\n",
    "        ss = pickle.load(f)\n",
    "    return ss.transform(x)\n",
    "\n",
    "def predict(x):\n",
    "    with open('models/{}'.format(coin), 'rb') as f:\n",
    "        model = pickle.load(f)\n",
    "    return model.predict(x), model.predict_proba(x)\n",
    "\n",
    "if __name__ == '__main__':\n",
    "    pred_map = {-1:'down',0:'no_movement',1:'up'}\n",
    "    coin = input('the coin name >>> ')\n",
    "    d = get_data(coin)\n",
    "    x = make_all_features(d)\n",
    "    x = feature_eng(x)\n",
    "    pred ,proba = predict(x)\n",
    "    print('this predection is {}'.format(pred_map[pred[0]]))\n",
    "    print('probability of down is {} || no movement is {}|| up is {}'.format(proba[:,0],proba[:,1],proba[:,2]))"
   ]
  },
  {
   "cell_type": "code",
   "execution_count": null,
   "metadata": {
    "collapsed": true
   },
   "outputs": [],
   "source": []
  }
 ],
 "metadata": {
  "anaconda-cloud": {},
  "kernelspec": {
   "display_name": "Python [default]",
   "language": "python",
   "name": "python3"
  },
  "language_info": {
   "codemirror_mode": {
    "name": "ipython",
    "version": 3
   },
   "file_extension": ".py",
   "mimetype": "text/x-python",
   "name": "python",
   "nbconvert_exporter": "python",
   "pygments_lexer": "ipython3",
   "version": "3.5.3"
  }
 },
 "nbformat": 4,
 "nbformat_minor": 2
}
