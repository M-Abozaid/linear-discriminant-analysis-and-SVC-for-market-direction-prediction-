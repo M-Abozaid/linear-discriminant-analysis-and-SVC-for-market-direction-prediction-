{
 "cells": [
  {
   "cell_type": "markdown",
   "metadata": {},
   "source": [
    "#### candel is down (open>close)\n",
    "#### candel is up      (close>open)"
   ]
  },
  {
   "cell_type": "markdown",
   "metadata": {},
   "source": [
    "th foal the to predict the direction of the next candel based on the current candel "
   ]
  },
  {
   "cell_type": "code",
   "execution_count": null,
   "metadata": {
    "collapsed": true
   },
   "outputs": [],
   "source": [
    "def make_Xy(coin):\n",
    "    data = pd.read_csv('{}.csv'.format(coin.upper()))\n",
    "    data['date'] = data.date.apply(datetime.datetime.fromtimestamp)\n",
    "    data.set_index('date', inplace=True)\n",
    "\n",
    "    price = ['open','close','high','low']\n",
    "    data['price'] = data[price].mean(axis=1)\n",
    "    data['price_change'] = data.price.pct_change()\n",
    "    data['spread']  = data.open - data.close\n",
    "    def u_d(r):\n",
    "        if r[]\n",
    "        \n",
    "    data['next'] = data.price.shift(1)\n",
    "    data['change'] = (data.next - data.price)\n",
    "    data.drop(price,axis=1,inplace=True)\n",
    "\n",
    "    pos = np.percentile(data.change.dropna(),50 + 25)\n",
    "    neg = np.percentile(data.change.dropna(),50- 25)\n",
    "    \n",
    "    def up_down(row):\n",
    "        \"\"\"returns if the next movement or up or down\"\"\"\n",
    "        if row > pos:\n",
    "            return 1\n",
    "        elif row < neg:\n",
    "            return -1\n",
    "        else:\n",
    "            return 0   \n",
    "\n",
    "    data['up_down'] = data.change.apply(up_down)\n",
    "#     ### creating the SMAs\n",
    "    data['sma_5'] = data['price'].rolling(5).mean()\n",
    "    data['sma_10'] = data['price'].rolling(10).mean()\n",
    "\n",
    "#     data['mean_spread3'] = data['spread'].rolling(3).mean()\n",
    "#     data['mean_spread6'] = data['spread'].rolling(5).mean()\n",
    "\n",
    "\n",
    "#     data['mean_quote_volume3'] = data['quoteVolume'].rolling(3).mean()\n",
    "#     data['mean_quote_volume5'] = data['quoteVolume'].rolling(5).mean()\n",
    "\n",
    "#     data['pc_ch_5'] = data.sma_5.pct_change()\n",
    "#     data['pc_ch_10'] = data.sma_10.pct_change()\n",
    "\n",
    "#     data['sma5_ask_diff'] = (data.sma_5  - data.price)\n",
    "#     data['sma10_ask_diff'] = (data.sma_10  - data.price)\n",
    "\n",
    "    data.dropna(inplace=True)\n",
    "\n",
    "\n",
    "    X = data.drop(['change','up_down','next','price','sma_5','sma_10'],axis=1)\n",
    "    X = X.values\n",
    "    y = data.up_down.values\n",
    "    return X,y "
   ]
  },
  {
   "cell_type": "code",
   "execution_count": 1,
   "metadata": {
    "collapsed": true
   },
   "outputs": [],
   "source": [
    "import pandas as pd \n",
    "import numpy as np \n",
    "import matplotlib.pyplot as plt \n"
   ]
  },
  {
   "cell_type": "code",
   "execution_count": null,
   "metadata": {
    "collapsed": true
   },
   "outputs": [],
   "source": []
  }
 ],
 "metadata": {
  "kernelspec": {
   "display_name": "Python [default]",
   "language": "python",
   "name": "python3"
  },
  "language_info": {
   "codemirror_mode": {
    "name": "ipython",
    "version": 3
   },
   "file_extension": ".py",
   "mimetype": "text/x-python",
   "name": "python",
   "nbconvert_exporter": "python",
   "pygments_lexer": "ipython3",
   "version": "3.5.3"
  }
 },
 "nbformat": 4,
 "nbformat_minor": 2
}
